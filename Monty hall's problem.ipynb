{
 "cells": [
  {
   "cell_type": "code",
   "execution_count": 1,
   "id": "b346109a",
   "metadata": {},
   "outputs": [
    {
     "name": "stdout",
     "output_type": "stream",
     "text": [
      "Enter the number of doors: 3\n",
      "Enter the number of doors opened (at least 1, less than total doors - 1): 1\n",
      "Sticking wins: 33305 out of 100000 (33.30%)\n",
      "Switching wins: 66695 out of 100000 (66.70%)\n"
     ]
    }
   ],
   "source": [
    "import random\n",
    "\n",
    "def monty_hall_simulation(num_trials, num_doors, num_opened_doors):\n",
    "    stick_wins = 0\n",
    "    switch_wins = 0\n",
    "\n",
    "    for _ in range(num_trials):\n",
    "        # Randomly place the car behind one of the doors\n",
    "        car_behind = random.randint(1, num_doors)\n",
    "\n",
    "        # Contestant's initial choice\n",
    "        initial_choice = random.randint(1, num_doors)\n",
    "\n",
    "        # Monty reveals num_opened_doors number of goats\n",
    "        remaining_doors = [door for door in range(1, num_doors + 1) if door != initial_choice]\n",
    "        monty_reveals = random.sample([door for door in remaining_doors if door != car_behind], num_opened_doors)\n",
    "\n",
    "        # Contestant's decision: Stick or Switch\n",
    "        remaining_unopened_doors = [door for door in remaining_doors if door not in monty_reveals]\n",
    "        switch_choice = random.choice(remaining_unopened_doors)\n",
    "\n",
    "        # Check if the contestant wins by sticking or switching\n",
    "        stick_wins += initial_choice == car_behind\n",
    "        switch_wins += switch_choice == car_behind\n",
    "\n",
    "    return stick_wins, switch_wins\n",
    "\n",
    "num_trials = 100000  # Adjust the number of trials as needed\n",
    "num_doors = int(input(\"Enter the number of doors: \"))\n",
    "num_opened_doors = int(input(\"Enter the number of doors opened (at least 1, less than total doors - 1): \"))\n",
    "num_opened_doors = max(1, min(num_doors - 1, num_opened_doors))  # Ensure a valid number of opened doors\n",
    "stick_wins, switch_wins = monty_hall_simulation(num_trials, num_doors, num_opened_doors)\n",
    "\n",
    "print(f\"Sticking wins: {stick_wins} out of {num_trials} ({stick_wins/num_trials:.2%})\")\n",
    "print(f\"Switching wins: {switch_wins} out of {num_trials} ({switch_wins/num_trials:.2%})\")"
   ]
  },
  {
   "cell_type": "code",
   "execution_count": null,
   "id": "2b3b683e",
   "metadata": {},
   "outputs": [],
   "source": []
  }
 ],
 "metadata": {
  "kernelspec": {
   "display_name": "Python 3 (ipykernel)",
   "language": "python",
   "name": "python3"
  },
  "language_info": {
   "codemirror_mode": {
    "name": "ipython",
    "version": 3
   },
   "file_extension": ".py",
   "mimetype": "text/x-python",
   "name": "python",
   "nbconvert_exporter": "python",
   "pygments_lexer": "ipython3",
   "version": "3.9.13"
  }
 },
 "nbformat": 4,
 "nbformat_minor": 5
}
